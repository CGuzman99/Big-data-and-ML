{
  "nbformat": 4,
  "nbformat_minor": 0,
  "metadata": {
    "colab": {
      "provenance": [],
      "collapsed_sections": [
        "7VYlRZwzGz0P",
        "H96CBWdobell",
        "9gkBzvFBN77G",
        "t3x6rJqXcIN3",
        "w96F2rehmm2Q"
      ],
      "toc_visible": true,
      "include_colab_link": true
    },
    "kernelspec": {
      "name": "python3",
      "display_name": "Python 3"
    },
    "language_info": {
      "name": "python"
    }
  },
  "cells": [
    {
      "cell_type": "markdown",
      "metadata": {
        "id": "view-in-github",
        "colab_type": "text"
      },
      "source": [
        "<a href=\"https://colab.research.google.com/github/CGuzman99/Data-analysis-and-machine-learning/blob/main/Information-Retrieval-System/ArXiv_IRS.ipynb\" target=\"_parent\"><img src=\"https://colab.research.google.com/assets/colab-badge.svg\" alt=\"Open In Colab\"/></a>"
      ]
    },
    {
      "cell_type": "markdown",
      "source": [
        "#Summary"
      ],
      "metadata": {
        "id": "iwU9X-QCR_jT"
      }
    },
    {
      "cell_type": "markdown",
      "source": [
        "Information Retrieval System of a subset of physics articles from the arXiv dataset (https://www.kaggle.com/datasets/Cornell-University/arxiv). The system implements documents preprocessing, clustering based on the similarity between documents and query handling."
      ],
      "metadata": {
        "id": "qtroYMLr5rm0"
      }
    },
    {
      "cell_type": "markdown",
      "source": [
        "#Introduction"
      ],
      "metadata": {
        "id": "X72LE9qLUiN2"
      }
    },
    {
      "cell_type": "markdown",
      "source": [
        "Information retrieval (IR) is the science of searching for information in a document, searching for documents themselves, and also searching for the metadata that describes data, and for databases of texts, images or sounds. An IR system  is a sowftware system that provides acces to books, journals and other documents; it also stores and manages those documents. One of their applications are web search engines.\n",
        "\n",
        "For nearly 30 years, ArXiv has served the public and research communities by providing open access to scholarly articles, from the vast branches of physics to the many subdisciplines of computer science to everything in between, including math, statistics, electrical engineering, quantitative biology, and economics. The arXiv dataset is a repository of 1.7 million articles, with relevant features such as artcle titles, authors, categories, abstracts, full text PDFs and more.\n",
        "\n",
        "The goal of this project is to develop a information retrieval system of a subset of physics articles from the arXiv dataset."
      ],
      "metadata": {
        "id": "L2d5FYfrUq5_"
      }
    },
    {
      "cell_type": "markdown",
      "source": [
        "#Methodology"
      ],
      "metadata": {
        "id": "-Nk-3-94UrYy"
      }
    },
    {
      "cell_type": "markdown",
      "source": [
        "The IR system will work on the abstract of the articles, this means when a query is made the system will look for the abstract of the articles that match the query. Due to computational power needed during preprocessing, the system works with a subset of the full dataset and I am just using physics articles, which I already set apart in a json file (https://drive.google.com/file/d/1wIhXlS-oGgOjYFQwrXZFZssly3sQqIAz/view?usp=sharing).\n",
        "\n",
        "To build an information retrieval system there are certain steps that have to be followed (the documents will be the abstract of the articles):\n",
        "\n",
        "1.   **Document preprocessing:** here the documents will be passed through a process of tokenization, stopwords removal and stemming. Each word of a document will represent a token, but we are only taking into account the ones that provide the text with relevant information and will not consider the rest (the stop words). To reduce the number of tokens, the words with the same base or root will be considered as the same token, and to achieve this they have to be passed through a stemming process.\n",
        "2.   **Posting list creation:** a posting list for each token will be created, i.e., a list of all the documents where a token can be found one or more times.\n",
        "3. **Document weighting:** a weight is assigned to each document based on the term frquencies, document frequencies and inverse document frequencies functions. The result is a matrix where each vector represent the weights of a document.\n",
        "4. **Similarity:** a matrix containing a value that measures the similarity of each pair of documents using the document weights.\n",
        "5. **Clustering:** the documents are divided in sets or clusters. A center for the cluster is chosen and then every document with similarity to the center greater than certain value is added to the set.\n",
        "6. **Query handling:** the string or strings in a query are preprocessed (tokenization, stopwords removal and stemming) and then we can look for ocurrences in the documents using the posting lists.\n",
        "\n",
        "For tokenization I'm using Tokenizer from the Keras library. The stopwords list and the stemming algorithm (SnowballStemmer) are taken from the nltk library. For plotting and data visualization in the results section I'm using matplotlib.\n",
        "\n",
        "\n"
      ],
      "metadata": {
        "id": "S8f-TtPieX-s"
      }
    },
    {
      "cell_type": "code",
      "metadata": {
        "colab": {
          "base_uri": "https://localhost:8080/"
        },
        "id": "pXubO_cpCxZw",
        "outputId": "2d90bfd9-ca55-4964-e76a-252b25cc1825"
      },
      "source": [
        "from google.colab import drive,files\n",
        "from keras.preprocessing.text import Tokenizer\n",
        "import matplotlib.pyplot as plt\n",
        "import math\n",
        "import statistics\n",
        "import random\n",
        "import nltk\n",
        "nltk.download('stopwords')\n",
        "from nltk.stem import SnowballStemmer\n",
        "from nltk.corpus import stopwords\n",
        "import json\n",
        "\n",
        "\n",
        "drive.mount(\"/content/gdrive\")"
      ],
      "execution_count": null,
      "outputs": [
        {
          "output_type": "stream",
          "name": "stderr",
          "text": [
            "[nltk_data] Downloading package stopwords to /root/nltk_data...\n",
            "[nltk_data]   Unzipping corpora/stopwords.zip.\n"
          ]
        },
        {
          "output_type": "stream",
          "name": "stdout",
          "text": [
            "Mounted at /content/gdrive\n"
          ]
        }
      ]
    },
    {
      "cell_type": "markdown",
      "metadata": {
        "id": "rYWATY59HA8h"
      },
      "source": [
        "## Functions"
      ]
    },
    {
      "cell_type": "markdown",
      "source": [
        "In this section you can find all the functions defined to build the system."
      ],
      "metadata": {
        "id": "EVEUs-KV5Mh2"
      }
    },
    {
      "cell_type": "code",
      "source": [
        "#Returns a list of categories\n",
        "def getCategories(item_cat, categories):\n",
        "  lst_cat = []\n",
        "  keys = categories.keys()\n",
        "  for cat in keys:\n",
        "    if cat in item_cat:\n",
        "      lst_cat.append(categories[cat])\n",
        "  return lst_cat\n",
        "\n",
        "#Prints the information of an article\n",
        "def print_info(index, itemdata, categories):\n",
        "  item = itemdata[index]\n",
        "  cat = getCategories(item[\"categories\"], categories)\n",
        "  print('Title:', item[\"title\"])\n",
        "  print('Authors:', item[\"authors\"])\n",
        "  print('Categories:', \", \".join(cat))\n",
        "  print('Doi:', item[\"doi\"])\n",
        "  print(item[\"abstract\"])\n",
        "\n",
        "#Prints the information of a list of articles\n",
        "def print_info_lst(index_lst, itemdata, categories):\n",
        "  for index in index_lst:\n",
        "    print('----------------------------------------------')\n",
        "    print_info(index, itemdata, categories)"
      ],
      "metadata": {
        "id": "gJTqlPu7o-Zu"
      },
      "execution_count": null,
      "outputs": []
    },
    {
      "cell_type": "code",
      "metadata": {
        "id": "-6a4w8-jEb62"
      },
      "source": [
        "#Intersection of two lists\n",
        "def intersection(lst1, lst2):\n",
        "  lst = [val for val in lst1 if val in lst2]\n",
        "  return lst\n",
        "\n",
        "#Union of two lists\n",
        "def union(lst1, lst2):\n",
        "  s1 = set(lst1)\n",
        "  s2 = set(lst2)\n",
        "  lst = list(s1.union(s2))\n",
        "  lst.sort()\n",
        "  return lst\n",
        "\n",
        "#Transpose matrix\n",
        "def traspuesta(matriz):\n",
        "  tr = []\n",
        "  for i in range(len(matriz[0])):\n",
        "    x = [y[i] for y in matriz]\n",
        "    tr.append(x)\n",
        "  return tr\n",
        "\n",
        "def sortDic(dic, rev=False):\n",
        "  new_dic = {}\n",
        "  keys = sorted(dic.keys(), reverse=rev)\n",
        "  for key in keys:\n",
        "    new_dic[key] = dic[key]\n",
        "  return new_dic\n",
        "\n",
        "def sortDicValues(dic, rev=False):\n",
        "  new_dic = {}\n",
        "  values = list(dic.items())\n",
        "  values.sort(key=keySortItem, reverse=rev)\n",
        "  for l,val in values:\n",
        "    new_dic[l] = val\n",
        "  return new_dic\n",
        "\n",
        "def keySortItem(itm):\n",
        "  return itm[1]\n",
        "\n",
        "def graph(x, y, xlab, ylab, n):\n",
        "  plt.subplot(2,1,n)\n",
        "  plt.plot(x, y)\n",
        "  plt.xlabel(xlab)\n",
        "  plt.ylabel(ylab)\n",
        "  plt.show\n",
        "\n",
        "#F measure with beta=1 (or alfa=1/2) as default\n",
        "def F_measure(rec_prec, beta=1):\n",
        "  F = {}\n",
        "  b = pow(beta,2)\n",
        "  for p,r in rec_prec.items():\n",
        "    r = 0.5\n",
        "    f = ((b+1)*p*r)/(b*p+r)\n",
        "    F[p*100] = f*100\n",
        "  sortDic(F)\n",
        "  return F\n",
        "\n",
        "def stdIndex(similarity):\n",
        "  std = []\n",
        "  for vector in similarity:\n",
        "    std.append(statistics.pstdev(vector))\n",
        "  aux = sorted(std, reverse=True)\n",
        "  index = []\n",
        "  for val in aux:\n",
        "    ind = std.index(val)\n",
        "    std.pop(ind)\n",
        "    index.append(ind)\n",
        "  return index, aux\n",
        "\n",
        "def graphDistribution(similarity, doc):\n",
        "  plt.hist(similarity[doc], bins=20, label='Document index: ' + str(doc))\n",
        "  plt.legend()\n",
        "  plt.plot()\n"
      ],
      "execution_count": null,
      "outputs": []
    },
    {
      "cell_type": "markdown",
      "metadata": {
        "id": "7VYlRZwzGz0P"
      },
      "source": [
        "### Tokenization, posting list"
      ]
    },
    {
      "cell_type": "code",
      "metadata": {
        "id": "sK587QwuDczg"
      },
      "source": [
        "def remove_d(lst):\n",
        "  data = []\n",
        "  for string in lst:\n",
        "    string = string.replace('Ñ', 'N')\n",
        "    string = string.replace('Ü', 'U')\n",
        "    data.append(''.join([s for s in string if not s.isdigit()]))\n",
        "  return data\n",
        "\n",
        "def tokenize(data):\n",
        "  tokenizer = Tokenizer()\n",
        "  tokenizer.fit_on_texts(data)\n",
        "  sw = set(stopwords.words('english'))\n",
        "  tokens = list(tokenizer.word_index.keys())\n",
        "  aux = []\n",
        "  for token in tokens:\n",
        "    if not token in sw:\n",
        "      aux.append(token)\n",
        "  aux.sort()\n",
        "  tokens_rel = stemming(aux)\n",
        "  tokens_index = tokenIndex(tokens_rel)\n",
        "  return tokens_rel, tokens_index\n",
        "\n",
        "def stemming(tokens):\n",
        "  stemmer = SnowballStemmer('english')\n",
        "  tokens_rel = {}\n",
        "  for token in tokens:\n",
        "    word_st = stemmer.stem(token)\n",
        "    if not word_st in tokens_rel.keys():\n",
        "      tokens_rel[word_st] = []\n",
        "    tokens_rel[word_st].append(token)\n",
        "  return tokens_rel\n",
        "\n",
        "def tokenIndex(tokens):\n",
        "  ti = {}\n",
        "  i = 0\n",
        "  for token in tokens:\n",
        "    ti[token] = i\n",
        "    i += 1\n",
        "  return ti\n",
        "\n",
        "#Create posting list\n",
        "def crearPL(tokens_rel, text):\n",
        "  pl = []\n",
        "  for token, words in tokens_rel.items():\n",
        "    aux = []\n",
        "    for word in words:\n",
        "      for i in range(len(text)):\n",
        "        if (word in text[i].lower()) and not (i in aux):\n",
        "          aux.append(i)\n",
        "    pl.append(aux)\n",
        "  return pl\n",
        "\n",
        "#Intersection between the posting list and the query words\n",
        "def intersectionPL(words, pl, ti):\n",
        "  word = ''\n",
        "  while not (word in ti.keys()) and len(words)>0:\n",
        "    word = words.pop(0)\n",
        "  if not word in ti.keys():\n",
        "    return []\n",
        "  i = ti.get(word)\n",
        "  lst = pl[i]\n",
        "  for word in words:\n",
        "    if word in ti.keys():\n",
        "      i = ti[word]\n",
        "      lst = intersection(lst, pl[i])\n",
        "  return lst\n"
      ],
      "execution_count": null,
      "outputs": []
    },
    {
      "cell_type": "markdown",
      "metadata": {
        "id": "tkJhXmNZiwa8"
      },
      "source": [
        "###Query"
      ]
    },
    {
      "cell_type": "code",
      "metadata": {
        "id": "VwIjYQNBiyiY"
      },
      "source": [
        "#Query of a string\n",
        "def query(query, pl, ti):\n",
        "  string = query.upper()\n",
        "  string = remove_d([string])\n",
        "  q_tkr, q_tki = tokenize(string)\n",
        "  words = list(q_tkr.keys())\n",
        "  doc = intersectionPL(words, pl, ti)\n",
        "  return doc,q_tkr\n",
        "\n",
        "#Query of a list of strings: query=[string,...]\n",
        "def query_lst(qr, pl, ti):\n",
        "  doc = []\n",
        "  q_tkr = {}\n",
        "  for string in qr:\n",
        "    lst,tkr = query(string, pl, ti)\n",
        "    doc = union(doc, lst)\n",
        "    for token in tkr:\n",
        "      if not token in q_tkr.keys():\n",
        "        q_tkr[token] = tkr[token]\n",
        "        continue\n",
        "      q_tkr[token] = union(q_tkr[token], tkr[token])\n",
        "  return doc, q_tkr\n",
        "\n",
        "#Query weighting\n",
        "def queryWeighting(t_rel, q_tokens, query):\n",
        "  string = ''\n",
        "  if isinstance(query, str):\n",
        "    string = query\n",
        "  else:\n",
        "    for cad in query:\n",
        "      string = string + ' ' + cad\n",
        "  q_tf = []\n",
        "  q_idf = []\n",
        "  q_weighting = []\n",
        "\n",
        "  l = len(t_rel.keys())\n",
        "  #tf, idf, tf-idf\n",
        "  for i in range(l):\n",
        "    q_tf.append(0)\n",
        "    q_idf.append(0)\n",
        "    token = list(t_rel.keys())[i]\n",
        "    if token in q_tokens.keys():\n",
        "      q_idf[i] = math.log(350,10)\n",
        "      for word in q_tokens[token]:\n",
        "        q_tf[i] += string.count(word)\n",
        "    val = q_tf[i]*q_idf[i]\n",
        "    q_weighting.append(val)\n",
        "  return q_weighting"
      ],
      "execution_count": null,
      "outputs": []
    },
    {
      "cell_type": "markdown",
      "metadata": {
        "id": "H96CBWdobell"
      },
      "source": [
        "### Document weighting"
      ]
    },
    {
      "cell_type": "code",
      "metadata": {
        "id": "2RwcSlVSbxKA"
      },
      "source": [
        "#Term frequency\n",
        "def termFrequency(data, tr):\n",
        "  tf = []\n",
        "  for term in tr:\n",
        "    aux = []\n",
        "    for i in range(len(data)):\n",
        "      freq = 0\n",
        "      row = data[i].lower()\n",
        "      for word in tr[term]:\n",
        "        freq += row.count(word)\n",
        "      aux.append(freq)\n",
        "    tf.append(aux)\n",
        "  return tf\n",
        "\n",
        "#Document frequency\n",
        "def documentFreq(tf):\n",
        "  df = []\n",
        "  for vector in tf:\n",
        "    freq = 0\n",
        "    for f in vector:\n",
        "      if (f>0):\n",
        "        freq += 1\n",
        "    df.append(freq)\n",
        "  return df\n",
        "\n",
        "#Inverse document frquency\n",
        "def idf(df, n, log_base=math.e):\n",
        "  idf = []\n",
        "  x = 1\n",
        "  for val in df:\n",
        "    x = 1\n",
        "    if val>0:\n",
        "      x = n/val\n",
        "    res = math.log(x, log_base)\n",
        "    idf.append(res)\n",
        "  return idf\n",
        "\n",
        "#Tf-idf weighting\n",
        "def tf_idfWeighting(tf, idf):\n",
        "  tf_idf = []\n",
        "  for j in range(len(tf)):\n",
        "    aux = []\n",
        "    for i in range(len(tf[j])):\n",
        "      aux.append(tf[j][i]*idf[j])\n",
        "    tf_idf.append(aux)\n",
        "  return tf_idf\n",
        "\n",
        "def docWeighting(l1,tokens_rel):\n",
        "  tf = termFrequency(l1,tokens_rel)\n",
        "  df = documentFreq(tf)\n",
        "  _idf = idf(df, len(l1), log_base=10)\n",
        "  tf_idf = tf_idfWeighting(tf, _idf)\n",
        "  dc_weight = traspuesta(tf_idf)\n",
        "  return dc_weight"
      ],
      "execution_count": null,
      "outputs": []
    },
    {
      "cell_type": "markdown",
      "metadata": {
        "id": "9gkBzvFBN77G"
      },
      "source": [
        "###Compressing"
      ]
    },
    {
      "cell_type": "code",
      "metadata": {
        "id": "7pRKubL0OTf5"
      },
      "source": [
        "def freqLetras(tokens):\n",
        "  letras_fr = {}\n",
        "  for i in range(97, 123):\n",
        "    n = 0\n",
        "    for token in tokens:\n",
        "      n += token.count(chr(i))\n",
        "    letras_fr[chr(i)] = n\n",
        "  letras_fr = sortDicValues(letras_fr, rev=True)\n",
        "  return letras_fr\n",
        "\n",
        "#Code for compressing\n",
        "def compressCode(letras):\n",
        "  code = {}\n",
        "  cad = '0'\n",
        "  for l in letras:\n",
        "    cad += '1'\n",
        "    code[l] = cad\n",
        "  return code\n",
        "\n",
        "#Compress\n",
        "def compress(tokens):\n",
        "  letras_fr = freqLetras(tokens)\n",
        "  letras = compressCode(letras_fr)\n",
        "  cmp_string = ''\n",
        "  for word in tokens:\n",
        "    cmp_string += str(len(word))\n",
        "    for w in word:\n",
        "      if w in letras.keys():\n",
        "        cmp_string += letras[w]\n",
        "  return cmp_string"
      ],
      "execution_count": null,
      "outputs": []
    },
    {
      "cell_type": "markdown",
      "metadata": {
        "id": "t3x6rJqXcIN3"
      },
      "source": [
        "### Similarity"
      ]
    },
    {
      "cell_type": "code",
      "metadata": {
        "id": "oojbxk2YcPqj"
      },
      "source": [
        "#Documents similarity\n",
        "def similitud_doc(matriz):\n",
        "  sim = []\n",
        "  for v1 in matriz:\n",
        "    v = []\n",
        "    for v2 in matriz:\n",
        "      val = similarity(v1, v2)\n",
        "      v.append(val)\n",
        "    sim.append(v)\n",
        "  return sim\n",
        "\n",
        "def similarity(v1, v2):\n",
        "  dp = dot(v1,v2)\n",
        "  n1 = norma(v1)\n",
        "  n2 = norma(v2)\n",
        "  sml = dp/(n1*n2)\n",
        "  return sml\n",
        "\n",
        "#Dot product between two vectors\n",
        "def dot(v1, v2):\n",
        "  dp = 0\n",
        "  for i in range(len(v1)):\n",
        "    dp += (v1[i]*v2[i])\n",
        "  return dp\n",
        "\n",
        "#Norm of a vector\n",
        "def norma(vect):\n",
        "  suma = 0\n",
        "  for x in vect:\n",
        "    suma += (x**2)\n",
        "  return math.sqrt(suma)\n",
        "\n",
        "#Order by similarity\n",
        "def simSort(rtr, qw, mtr):\n",
        "  dct = {}\n",
        "  for i in rtr:\n",
        "    vector = mtr[i]\n",
        "    sim = similarity(qw, vector)\n",
        "    dct[sim] = i\n",
        "  dct = sortDic(dct, rev=True)\n",
        "  return list(dct.values())"
      ],
      "execution_count": null,
      "outputs": []
    },
    {
      "cell_type": "markdown",
      "metadata": {
        "id": "8LE1sG8ZqsKo"
      },
      "source": [
        "### Clustering"
      ]
    },
    {
      "cell_type": "code",
      "metadata": {
        "id": "5Y0CiTL3q4lr"
      },
      "source": [
        "#Create clusters using standard deviation\n",
        "def clusteringSTD(simM, s):\n",
        "  ctr = []\n",
        "  clusters = []\n",
        "  length = len(simM)\n",
        "  std_index, std = stdIndex(simM)\n",
        "  while len(std_index)>0:\n",
        "    ind = std_index.pop(0)\n",
        "    if inClusters(ind, clusters):\n",
        "      continue\n",
        "    clusters.append(createClusterS(ind, simM, s))\n",
        "    ctr.append(ind)\n",
        "  return clusters, ctr\n",
        "\n",
        "#Create clusters\n",
        "def clustering(smlM, s):\n",
        "  ctr = []\n",
        "  clusters = []\n",
        "  length = len(smlM)\n",
        "  for i in range(length):\n",
        "    if not inClusters(i, clusters):\n",
        "      clusters.append(createClusterS(i, smlM, s))\n",
        "      ctr.append(i)\n",
        "  return clusters, ctr\n",
        "\n",
        "#Create cluster with n elements\n",
        "def createClusterN(doc, dw, n):\n",
        "  dic_sim = {}\n",
        "  v_sim = dw[doc]\n",
        "  for i in range(len(v_sim)):\n",
        "    key = v_sim[i]\n",
        "    dic_sim[key] = i\n",
        "  dic_sim = sortDic(dic_sim, rev=True)\n",
        "  cluster = [doc]\n",
        "  values = list(dic_sim.values())\n",
        "  for i in range(n-1):\n",
        "    cluster.append(values[i])\n",
        "  return cluster\n",
        "\n",
        "#Create clustes with documents with similarity greater than or equal to s\n",
        "def createClusterS(doc, sml, s):\n",
        "  dic_sim = {}\n",
        "  v_sim = sml[doc]\n",
        "  for i in range(len(v_sim)):\n",
        "    dic_sim[i] = v_sim[i]\n",
        "  cluster = [doc]\n",
        "  for i,val in dic_sim.items():\n",
        "    if val>=s:\n",
        "      cluster.append(i)\n",
        "  return cluster\n",
        "\n",
        "#Returns true if doc is in a cluster, and false otherwise\n",
        "def inClusters(doc, clusters):\n",
        "  for cluster in clusters:\n",
        "    if doc in cluster:\n",
        "      return True\n",
        "  return False\n",
        "\n",
        "#Returns de index of the cluster with it's main element as the most similar to doc\n",
        "def getSimCluster(sml, ctr, doc):\n",
        "  s = 0\n",
        "  ind = 0\n",
        "  for i in range(len(ctr)):\n",
        "    c = ctr[i]\n",
        "    if sml[doc][c]>s:\n",
        "      s = sml[doc][c]\n",
        "      ind = i\n",
        "  return ind\n",
        "\n",
        "#Returns a list of clusters most similar to the documents in docs\n",
        "def getClusters(sml, ctr, docs):\n",
        "  ind = []\n",
        "  for doc in docs:\n",
        "    i = getSimCluster(sml, ctr, doc)\n",
        "    if i not in ind:\n",
        "      ind.append(i)\n",
        "  ind.sort()\n",
        "  return ind"
      ],
      "execution_count": null,
      "outputs": []
    },
    {
      "cell_type": "markdown",
      "metadata": {
        "id": "XoaoqU0FHLPF"
      },
      "source": [
        "## Main code"
      ]
    },
    {
      "cell_type": "markdown",
      "source": [
        "In this section the data is downloaded and the system is built. The documents in a cluster are elements with relative similarity to the center document of the cluster greater than 0.15."
      ],
      "metadata": {
        "id": "-h3lmbFm5l04"
      }
    },
    {
      "cell_type": "code",
      "source": [
        "itemdata = []\n",
        "json_file = open('/content/gdrive/My Drive/arxiv-physics.json', 'r')\n",
        "lines = json_file.readlines()\n",
        "for line in lines:\n",
        "  itemdata.append(json.loads(line))"
      ],
      "metadata": {
        "id": "6sYk5SCxXpWR"
      },
      "execution_count": null,
      "outputs": []
    },
    {
      "cell_type": "code",
      "source": [
        "ids = []\n",
        "abstract = []\n",
        "for item in itemdata:\n",
        "  ids.append(item[\"id\"])\n",
        "  abstr = item[\"abstract\"]\n",
        "  abstract.append(abstr.upper())"
      ],
      "metadata": {
        "id": "hF4nGx_xDPlu"
      },
      "execution_count": null,
      "outputs": []
    },
    {
      "cell_type": "code",
      "source": [
        "categories = {\n",
        "    'Physics' : ['astro-ph', 'cond-mat', 'gr-qc', 'hep-ex', 'hep-lat', 'hep-ph', 'hep-th', 'math-ph', 'nlin', 'nucl-ex', 'nucl-th', 'physics', 'quant-ph'],\n",
        "    'Mathemathics' : ['math'],\n",
        "    'Computer Science' : ['CoRR'],\n",
        "    'Quantitative Biology' : ['q-bio'],\n",
        "    'Quantitative Finance' : ['q-fin'],\n",
        "    'Statistics' : ['stat'],\n",
        "    'Electrical Engineering and Systems Science' : ['eess'],\n",
        "    'Economics' : ['econ']\n",
        "}\n",
        "physics_subc = {\n",
        "    'astro-ph' : 'Astrophysics',\n",
        "    'cond-mat' : 'Condensed Matter',\n",
        "    'gr-qc' : 'General Relativity and Quantum Cosmology',\n",
        "    'hep-ex' : 'High Energy Physics - Experiment',\n",
        "    'hep-lat' : 'High Energy Physcics - Lattice',\n",
        "    'hep-ph' : 'High Energy Physics - Phenomenology',\n",
        "    'hep-th' : 'High Energy Physics - Theory',\n",
        "    'math-ph' : 'Mathematical Physics',\n",
        "    'nlin' : 'Nonlinear Sciences',\n",
        "    'nucl-ex' : 'Nuclear Experiment',\n",
        "    'nucl-th' : 'Nuclear Theory',\n",
        "    'physics' : 'Physics',\n",
        "    'quant-ph' : 'Quantum Physics'\n",
        "}\n"
      ],
      "metadata": {
        "id": "OGak1jQZZCZs"
      },
      "execution_count": null,
      "outputs": []
    },
    {
      "cell_type": "code",
      "metadata": {
        "id": "OVf_S9feGOQ5"
      },
      "source": [
        "#Documents preprocessing\n",
        "abstract2 = remove_d(abstract[:1000])\n",
        "tokens_rel, tokens_index = tokenize(abstract2)\n",
        "posting_list = crearPL(tokens_rel, abstract2)\n",
        "tokens_cmp = compress(tokens_rel)"
      ],
      "execution_count": null,
      "outputs": []
    },
    {
      "cell_type": "code",
      "metadata": {
        "id": "yuJHc9frZDwR"
      },
      "source": [
        "#Documents preprocessing\n",
        "doc_weights = docWeighting(abstract2, tokens_rel)\n",
        "sml = similitud_doc(doc_weights)"
      ],
      "execution_count": null,
      "outputs": []
    },
    {
      "cell_type": "code",
      "metadata": {
        "id": "p2TaWqAzz8Gd"
      },
      "source": [
        "#Creates clusters\n",
        "clusters,ctr = clustering(sml, 0.15)\n",
        "#Creates clusters using standard deviation\n",
        "clusters_std,ctr_std = clusteringSTD(sml, 0.15)"
      ],
      "execution_count": null,
      "outputs": []
    },
    {
      "cell_type": "markdown",
      "source": [
        "#Results"
      ],
      "metadata": {
        "id": "xTvRpiMfe7Da"
      }
    },
    {
      "cell_type": "markdown",
      "source": [
        "With 1000 documents, a total of 180 clusters were created, each one having between 2 and 74 elements. The average size of the clusters is 11."
      ],
      "metadata": {
        "id": "ccwP5Cp3Fgyo"
      }
    },
    {
      "cell_type": "code",
      "metadata": {
        "colab": {
          "base_uri": "https://localhost:8080/"
        },
        "id": "gwDHUaBR6Tt_",
        "outputId": "ec937177-f7c0-45aa-9d9f-f273b18d367b"
      },
      "source": [
        "#Number of clusters\n",
        "print(len(clusters_std))"
      ],
      "execution_count": null,
      "outputs": [
        {
          "output_type": "stream",
          "name": "stdout",
          "text": [
            "180\n"
          ]
        }
      ]
    },
    {
      "cell_type": "code",
      "metadata": {
        "id": "rthxC7sRqlof",
        "colab": {
          "base_uri": "https://localhost:8080/",
          "height": 501
        },
        "outputId": "772ee9f2-b622-41b9-9ca5-0993f5b14281"
      },
      "source": [
        "#Size of each cluster\n",
        "import numpy as np\n",
        "\n",
        "clusters_size = []\n",
        "for cluster in clusters_std:\n",
        "  clusters_size.append(len(cluster))\n",
        "\n",
        "avg_size = np.mean(clusters_size)\n",
        "print('Average size: ', avg_size)\n",
        "print('Max size: ', np.max(clusters_size))\n",
        "print('Min size: ', np.min(clusters_size))\n",
        "\n",
        "plt.plot(clusters_size, label='Cluster size')\n",
        "plt.axhline(avg_size, color='r', label='Average size')\n",
        "plt.xlabel('Cluster')\n",
        "plt.ylabel('Size')\n",
        "plt.legend()\n",
        "plt.show()"
      ],
      "execution_count": null,
      "outputs": [
        {
          "output_type": "stream",
          "name": "stdout",
          "text": [
            "Average size:  11.411111111111111\n",
            "Max size:  74\n",
            "Min size:  2\n"
          ]
        },
        {
          "output_type": "display_data",
          "data": {
            "text/plain": [
              "<Figure size 640x480 with 1 Axes>"
            ],
            "image/png": "[encoded data removed]"
          },
          "metadata": {}
        }
      ]
    },
    {
      "cell_type": "markdown",
      "source": [
        "Here is a distribution of the similarity of the documents relative to the document x that is the center of the first cluster. We can see that most of the documents (almost 700 documents) have a similarity less than 0.05, and just a few of them have similarity greater than 0.15 (which is the value I chose to make the clusters)."
      ],
      "metadata": {
        "id": "4QY1-SNvG3tL"
      }
    },
    {
      "cell_type": "code",
      "metadata": {
        "id": "imB1Po_6_PYz",
        "colab": {
          "base_uri": "https://localhost:8080/",
          "height": 430
        },
        "outputId": "1ee003b8-887d-4904-96f3-92540cb2a75d"
      },
      "source": [
        "#Distribution from document with index x\n",
        "x = ctr[0]\n",
        "graphDistribution(sml, x)"
      ],
      "execution_count": null,
      "outputs": [
        {
          "output_type": "display_data",
          "data": {
            "text/plain": [
              "<Figure size 640x480 with 1 Axes>"
            ],
            "image/png": "[encoded data removed]"
          },
          "metadata": {}
        }
      ]
    },
    {
      "cell_type": "markdown",
      "source": [
        "Now a query is done, searching for the word 'cosmology' in the documents (or a word with the same base). As a result, a list with 50 documents is retrieved. I'm printing the first 5 elements of this list."
      ],
      "metadata": {
        "id": "_LOG8ziHScOY"
      }
    },
    {
      "cell_type": "code",
      "source": [
        "#Query example\n",
        "retrieved, q_tkr = query('cosmology', posting_list, tokens_index)"
      ],
      "metadata": {
        "id": "-a0MIe1aWwKy"
      },
      "execution_count": null,
      "outputs": []
    },
    {
      "cell_type": "code",
      "source": [
        "print('Number of retrieved documents: ', len(retrieved))\n",
        "#Prints information of the results from de query\n",
        "print_info_lst(retrieved[:5], itemdata, physics_subc)"
      ],
      "metadata": {
        "colab": {
          "base_uri": "https://localhost:8080/"
        },
        "id": "-toO6w9zbFOn",
        "outputId": "9483734e-dfd4-4dcc-9cd2-754a86b508ae"
      },
      "execution_count": null,
      "outputs": [
        {
          "output_type": "stream",
          "name": "stdout",
          "text": [
            "Number of retrieved documents:  50\n",
            "----------------------------------------------\n",
            "Title: Polymer Quantum Mechanics and its Continuum Limit\n",
            "Authors: Alejandro Corichi, Tatjana Vukasinac and Jose A. Zapata\n",
            "Categories: General Relativity and Quantum Cosmology\n",
            "Doi: 10.1103/PhysRevD.76.044016\n",
            "  A rather non-standard quantum representation of the canonical commutation\n",
            "relations of quantum mechanics systems, known as the polymer representation has\n",
            "gained some attention in recent years, due to its possible relation with Planck\n",
            "scale physics. In particular, this approach has been followed in a symmetric\n",
            "sector of loop quantum gravity known as loop quantum cosmology. Here we explore\n",
            "different aspects of the relation between the ordinary Schroedinger theory and\n",
            "the polymer description. The paper has two parts. In the first one, we derive\n",
            "the polymer quantum mechanics starting from the ordinary Schroedinger theory\n",
            "and show that the polymer description arises as an appropriate limit. In the\n",
            "second part we consider the continuum limit of this theory, namely, the reverse\n",
            "process in which one starts from the discrete theory and tries to recover back\n",
            "the ordinary Schroedinger quantum mechanics. We consider several examples of\n",
            "interest, including the harmonic oscillator, the free particle and a simple\n",
            "cosmological model.\n",
            "\n",
            "----------------------------------------------\n",
            "Title: Why there is something rather than nothing (out of everything)?\n",
            "Authors: A.O.Barvinsky\n",
            "Categories: High Energy Physics - Theory\n",
            "Doi: 10.1103/PhysRevLett.99.071301\n",
            "  The path integral over Euclidean geometries for the recently suggested\n",
            "density matrix of the Universe is shown to describe a microcanonical ensemble\n",
            "in quantum cosmology. This ensemble corresponds to a uniform (weight one)\n",
            "distribution in phase space of true physical variables, but in terms of the\n",
            "observable spacetime geometry it is peaked about complex saddle-points of the\n",
            "{\\em Lorentzian} path integral. They are represented by the recently obtained\n",
            "cosmological instantons limited to a bounded range of the cosmological\n",
            "constant. Inflationary cosmologies generated by these instantons at late stages\n",
            "of expansion undergo acceleration whose low-energy scale can be attained within\n",
            "the concept of dynamically evolving extra dimensions. Thus, together with the\n",
            "bounded range of the early cosmological constant, this cosmological ensemble\n",
            "suggests the mechanism of constraining the landscape of string vacua and,\n",
            "simultaneously, a possible solution to the dark energy problem in the form of\n",
            "the quasi-equilibrium decay of the microcanonical state of the Universe.\n",
            "\n",
            "----------------------------------------------\n",
            "Title: Eternal inflation and localization on the landscape\n",
            "Authors: D. Podolsky, K. Enqvist\n",
            "Categories: Astrophysics, General Relativity and Quantum Cosmology, High Energy Physics - Theory\n",
            "Doi: 10.1088/1475-7516/2009/02/007\n",
            "  We model the essential features of eternal inflation on the landscape of a\n",
            "dense discretuum of vacua by the potential $V(\\phi)=V_{0}+\\delta V(\\phi)$,\n",
            "where $|\\delta V(\\phi)|\\ll V_{0}$ is random. We find that the diffusion of the\n",
            "distribution function $\\rho(\\phi,t)$ of the inflaton expectation value in\n",
            "different Hubble patches may be suppressed due to the effect analogous to the\n",
            "Anderson localization in disordered quantum systems. At $t \\to \\infty$ only the\n",
            "localized part of the distribution function $\\rho (\\phi, t)$ survives which\n",
            "leads to dynamical selection principle on the landscape. The probability to\n",
            "measure any but a small value of the cosmological constant in a given Hubble\n",
            "patch on the landscape is exponentially suppressed at $t\\to \\infty$.\n",
            "\n",
            "----------------------------------------------\n",
            "Title: Solar System Constraints on Gauss-Bonnet Mediated Dark Energy\n",
            "Authors: Luca Amendola, Christos Charmousis and Stephen C. Davis\n",
            "Categories: Astrophysics, General Relativity and Quantum Cosmology, High Energy Physics - Theory\n",
            "Doi: 10.1088/1475-7516/2007/10/004\n",
            "  Although the Gauss-Bonnet term is a topological invariant for general\n",
            "relativity, it couples naturally to a quintessence scalar field, modifying\n",
            "gravity at solar system scales. We determine the solar system constraints due\n",
            "to this term by evaluating the post-Newtonian metric for a distributional\n",
            "source. We find a mass dependent, 1/r^7 correction to the Newtonian potential,\n",
            "and also deviations from the Einstein gravity prediction for light-bending. We\n",
            "constrain the parameters of the theory using planetary orbits, the Cassini\n",
            "spacecraft data, and a laboratory test of Newton's law, always finding\n",
            "extremely tight bounds on the energy associated to the Gauss-Bonnet term. We\n",
            "discuss the relevance of these constraints to late-time cosmological\n",
            "acceleration.\n",
            "\n",
            "----------------------------------------------\n",
            "Title: Dark energy and neutrino model in SUSY -- Remarks on active and sterile\n",
            "  neutrinos mixing --\n",
            "Authors: Ryo Takahashi and Morimitsu Tanimoto\n",
            "Categories: High Energy Physics - Phenomenology\n",
            "Doi: 10.1142/S0218301307006861\n",
            "  We consider a Mass Varying Neutrinos (MaVaNs) model in supersymmetric theory.\n",
            "The model includes effects of supersymmetry breaking transmitted by the\n",
            "gravitational interaction from the hidden sector, in which supersymmetry was\n",
            "broken, to the dark energy sector. Then evolutions of the neutrino mass and the\n",
            "equation of state parameter of the dark energy are presented in the model. It\n",
            "is remarked that only the mass of a sterile neutrino is variable in the case of\n",
            "the vanishing mixing between the left-handed and a sterile neutrino on\n",
            "cosmological time scale. The finite mixing makes the mass of the left-handed\n",
            "neutrino variable.\n",
            "\n"
          ]
        }
      ]
    },
    {
      "cell_type": "markdown",
      "source": [
        "From the query we got documents from 6 different categories, where the most repeated one is Astrophysics and the two categories with less amount of documents are Physics and Quantum Physics."
      ],
      "metadata": {
        "id": "ebbxstrQdAp-"
      }
    },
    {
      "cell_type": "code",
      "source": [
        "cat_count = {}\n",
        "for doc in retrieved:\n",
        "  item_categories = itemdata[doc]['categories']\n",
        "  #print(item_categories)\n",
        "  for cat in physics_subc.keys():\n",
        "    if cat in item_categories:\n",
        "      if cat in cat_count.keys():\n",
        "        cat_count[cat] += 1\n",
        "      else:\n",
        "        cat_count[cat] = 1\n",
        "\n",
        "bar_colors = ['red', 'orange', 'gold', 'green', 'blue', 'purple']\n",
        "\n",
        "plt.clf()\n",
        "\n",
        "plt.bar(cat_count.keys(), cat_count.values(), color=bar_colors)\n",
        "plt.xlabel('Categories')\n",
        "plt.ylabel('Number of documents')\n",
        "plt.title('Documents from each category')\n",
        "plt.show()"
      ],
      "metadata": {
        "colab": {
          "base_uri": "https://localhost:8080/",
          "height": 472
        },
        "id": "spF2b9R4U1CG",
        "outputId": "a391abea-249a-4f42-9fec-8634dea259dc"
      },
      "execution_count": null,
      "outputs": [
        {
          "output_type": "display_data",
          "data": {
            "text/plain": [
              "<Figure size 640x480 with 1 Axes>"
            ],
            "image/png": "[encoded data removed]"
          },
          "metadata": {}
        }
      ]
    },
    {
      "cell_type": "markdown",
      "source": [
        "#Conclusions"
      ],
      "metadata": {
        "id": "II_i39xDeZTP"
      }
    },
    {
      "cell_type": "markdown",
      "source": [
        "An information retrieval system is succesfully implemented for the physics articles from the arXiv dataset. The similarity based clustering is a good approach for the documents unsupervised classification. For 1000 documents a total of 180 clusters are formed with and average size of 11 documents per cluster. Finally, a succesful query was realized, retrieving 50 documents with the searched word or a word with the same root appearing at least once in the abstract of the article.\n",
        "\n",
        "This a relatively simple system and more complex techniques can be implemented to improve it's performance. But this naive approach is able to solve the problem for simple systems."
      ],
      "metadata": {
        "id": "iZZNOQT7ebYy"
      }
    }
  ]
}