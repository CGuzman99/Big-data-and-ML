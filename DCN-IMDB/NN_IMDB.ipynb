{
  "nbformat": 4,
  "nbformat_minor": 0,
  "metadata": {
    "colab": {
      "provenance": [],
      "collapsed_sections": [
        "bzSz6R0NUYS4"
      ],
      "authorship_tag": "ABX9TyOTWwCRdgOYFwMDd6rYv2Sn",
      "include_colab_link": true
    },
    "kernelspec": {
      "name": "python3",
      "display_name": "Python 3"
    },
    "language_info": {
      "name": "python"
    }
  },
  "cells": [
    {
      "cell_type": "markdown",
      "metadata": {
        "id": "view-in-github",
        "colab_type": "text"
      },
      "source": [
        "<a href=\"https://colab.research.google.com/github/CGuzman99/Data-analysis-and-machine-learning/blob/main/DCN-IMDB/NN_IMDB.ipynb\" target=\"_parent\"><img src=\"https://colab.research.google.com/assets/colab-badge.svg\" alt=\"Open In Colab\"/></a>"
      ]
    },
    {
      "cell_type": "markdown",
      "source": [
        "#Summary"
      ],
      "metadata": {
        "id": "_l-7mXqSTzB4"
      }
    },
    {
      "cell_type": "markdown",
      "source": [
        "In this project a proble of two-class classification, or binary classification, using machine learning is solved. A neural network is trained to classify movie reviews as positive or negative, based on the text content of the reviews, using Keras library."
      ],
      "metadata": {
        "id": "qSpM20XyT3hB"
      }
    },
    {
      "cell_type": "markdown",
      "source": [
        "#Introduction"
      ],
      "metadata": {
        "id": "56nyJ7mkUR1X"
      }
    },
    {
      "cell_type": "markdown",
      "source": [
        "The binary classification is one of the most widely applied kind of machine learning problems. Classifying movie reviews as positive or negative based on the text content of the reviews falls on this category and we can use deep learning models to solve it. Here I will implement a solution to this problem using machine learnig techniques.\n",
        "\n",
        "To develop the neural network I'm using Keras and the data will be taken from the IMDB dataset which comes packaged with keras. Keras is a model-level library, providing high-level building blocks for developing deep-learnig models. The IMDB dataset is a set of 50,000 highly polarized reviews from the Internet Movie Database, that are split into 25,000 reviews for training and 25,000 reviews for testing, each set consisting of 50% negative and 50% positive reviews."
      ],
      "metadata": {
        "id": "3WGVd-KfWnTl"
      }
    },
    {
      "cell_type": "markdown",
      "source": [
        "#Methodology"
      ],
      "metadata": {
        "id": "UpVV9t5dUUDD"
      }
    },
    {
      "cell_type": "markdown",
      "source": [
        "##Importing the data"
      ],
      "metadata": {
        "id": "OMCui_T6klRg"
      }
    },
    {
      "cell_type": "markdown",
      "source": [
        "To construct the model and getting the data I'm using the keras library. The first step is to import the data to work with. The argument num_words=10000 means we'll only keep the top 10,000 most frequently ocurring words in the training data. The variables train_data and test_data are lists of reviews, and each review is a list of word indices that are encoding a sequence of words. The variables train_labels and test_labels are lists of 0s and 1s, where 0 means negative and 1 positive."
      ],
      "metadata": {
        "id": "m4TFwRgyfL2Y"
      }
    },
    {
      "cell_type": "code",
      "execution_count": null,
      "metadata": {
        "id": "FwcLh2ZwgGui",
        "colab": {
          "base_uri": "https://localhost:8080/"
        },
        "outputId": "f53c7e4a-8f0c-46d7-c2d7-73b02400e243"
      },
      "outputs": [
        {
          "output_type": "stream",
          "name": "stdout",
          "text": [
            "Downloading data from https://storage.googleapis.com/tensorflow/tf-keras-datasets/imdb.npz\n",
            "17464789/17464789 [==============================] - 0s 0us/step\n"
          ]
        }
      ],
      "source": [
        "from keras.datasets import imdb\n",
        "\n",
        "(train_data, train_labels), (test_data, test_labels) = imdb.load_data(num_words=10000)"
      ]
    },
    {
      "cell_type": "markdown",
      "source": [
        "##Preparing the data"
      ],
      "metadata": {
        "id": "kKa6sPhlkotb"
      }
    },
    {
      "cell_type": "markdown",
      "source": [
        "Before passing the data to our model we have to prepare it, which means we have to turn the lists into tensors. I'm using one-hot encoding to turn the lists into vectors of 0s and 1s."
      ],
      "metadata": {
        "id": "ncNJY0LbfxBj"
      }
    },
    {
      "cell_type": "code",
      "source": [
        "# Encoding the integer sequences into a binary matrix\n",
        "\n",
        "import numpy as np\n",
        "\n",
        "def vectorize_sequences(sequences, dimension=10000) :\n",
        "  results = np.zeros((len(sequences), dimension))\n",
        "  for i, sequence in enumerate(sequences) :\n",
        "    results[i, sequence] = 1. # Sets specific indices of results[i] to 1s\n",
        "  return results\n",
        "\n",
        "x_train = vectorize_sequences(train_data) # Vectorized training data\n",
        "x_test = vectorize_sequences(test_data) # Vectorized test data\n",
        "\n",
        "y_train = np.asarray(train_labels).astype('float32') # Vectorized train labels\n",
        "y_test = np.asarray(test_labels).astype('float32') # Vectorized test labels"
      ],
      "metadata": {
        "id": "kw9rjOHwgryG"
      },
      "execution_count": null,
      "outputs": []
    },
    {
      "cell_type": "markdown",
      "source": [
        "##Construction of the model and training"
      ],
      "metadata": {
        "id": "UYAQZU_BkuRc"
      }
    },
    {
      "cell_type": "markdown",
      "source": [
        "For the model I'll use a simple stack of two fully connected layers with relu activations and a final layer with sigmoid activation. For the two initial Dense layers we are using 16 hidden units. This means the wight matrix of each layer will have shape (input_dimension, 16). In the final layer we use the sigmoid activation to output a probability, i.e., a value between 0 and 1 indicating how likely the review is to be positive. Because this is a binary classification problem I am using binary crossentropy as the loss function and rmsprop as the optimizer."
      ],
      "metadata": {
        "id": "_GC0XRksh5oe"
      }
    },
    {
      "cell_type": "code",
      "source": [
        "# The model definition\n",
        "\n",
        "from keras import models\n",
        "from keras import layers\n",
        "\n",
        "model = models.Sequential()\n",
        "model.add(layers.Dense(16, activation='relu', input_shape=(10000,)))\n",
        "model.add(layers.Dense(16, activation='relu'))\n",
        "model.add(layers.Dense(1, activation='sigmoid'))"
      ],
      "metadata": {
        "id": "Rg1IJp2tiN6V"
      },
      "execution_count": null,
      "outputs": []
    },
    {
      "cell_type": "code",
      "source": [
        "# Compiling the model\n",
        "\n",
        "model.compile(optimizer='rmsprop',\n",
        "              loss='binary_crossentropy',\n",
        "              metrics=['accuracy']\n",
        "              )"
      ],
      "metadata": {
        "id": "1PU1J9LEkGZA"
      },
      "execution_count": null,
      "outputs": []
    },
    {
      "cell_type": "markdown",
      "source": [
        "I am setting a subset of the training data as a validation set for the model to compare the results with the rest of the training set and refine the model before passing the test set."
      ],
      "metadata": {
        "id": "uGBjtzFDnboC"
      }
    },
    {
      "cell_type": "code",
      "source": [
        "# Setting aside a validation set\n",
        "\n",
        "x_val = x_train[:10000]\n",
        "partial_x_train = x_train[10000:]\n",
        "y_val = y_train[:10000]\n",
        "partial_y_train = y_train[10000:]"
      ],
      "metadata": {
        "id": "jIk_7qLoku0Q"
      },
      "execution_count": null,
      "outputs": []
    },
    {
      "cell_type": "code",
      "source": [
        "# Training the model\n",
        "\n",
        "model.compile(optimizer='rmsprop',\n",
        "              loss='binary_crossentropy',\n",
        "              metrics=['acc']\n",
        "              )\n",
        "\n",
        "history = model.fit(partial_x_train,\n",
        "                    partial_y_train,\n",
        "                    epochs=20,\n",
        "                    batch_size=512,\n",
        "                    validation_data=(x_val, y_val)\n",
        "                    )"
      ],
      "metadata": {
        "id": "alJN2XYRlQmx"
      },
      "execution_count": null,
      "outputs": []
    },
    {
      "cell_type": "markdown",
      "source": [
        "#Results"
      ],
      "metadata": {
        "id": "bzSz6R0NUYS4"
      }
    },
    {
      "cell_type": "markdown",
      "source": [
        "Now we'll see the results of the model. To create the graphics I am using matplotlib."
      ],
      "metadata": {
        "id": "DGDxN0CIlsFC"
      }
    },
    {
      "cell_type": "code",
      "source": [
        "# Plotting the training and validation loss\n",
        "\n",
        "import matplotlib.pyplot as plt\n",
        "\n",
        "history_dict = history.history\n",
        "loss_values = history_dict['loss']\n",
        "val_loss_values = history_dict['val_loss']\n",
        "acc_values = history_dict['acc']\n",
        "val_acc_values = history_dict['val_acc']\n",
        "\n",
        "epochs = range(1, len(loss_values)+1)\n",
        "\n",
        "plt.plot(epochs, loss_values, 'bo', label='Training loss')\n",
        "plt.plot(epochs, val_loss_values, 'b', label='Validation loss')\n",
        "plt.title('Training and validation loss')\n",
        "plt.xlabel('Epochs')\n",
        "plt.ylabel('Loss')\n",
        "plt.legend()\n",
        "\n",
        "plt.figure()\n",
        "\n",
        "plt.plot(epochs, acc_values, 'bo', label='Training acc')\n",
        "plt.plot(epochs, val_acc_values, 'b', label='Validation acc')\n",
        "plt.title('Training and validation accuracy')\n",
        "plt.xlabel('Epochs')\n",
        "plt.ylabel('Loss')\n",
        "plt.legend()\n",
        "\n",
        "plt.show()"
      ],
      "metadata": {
        "colab": {
          "base_uri": "https://localhost:8080/",
          "height": 927
        },
        "id": "IIy-xD8HotyW",
        "outputId": "24695563-ffba-4738-dbd1-94b7e0a95176"
      },
      "execution_count": null,
      "outputs": [
        {
          "output_type": "display_data",
          "data": {
            "text/plain": [
              "<Figure size 640x480 with 1 Axes>"
            ],
            "image/png": "[encoded data removed]"
          },
          "metadata": {}
        },
        {
          "output_type": "display_data",
          "data": {
            "text/plain": [
              "<Figure size 640x480 with 1 Axes>"
            ],
            "image/png": "[encoded data removed]"
          },
          "metadata": {}
        }
      ]
    },
    {
      "cell_type": "markdown",
      "source": [
        "#Conclusions"
      ],
      "metadata": {
        "id": "SjPW0KeDmEbD"
      }
    },
    {
      "cell_type": "markdown",
      "source": [
        "As we can see in the previous section, the model starts to overfit after 4 epochs, reaching a peak for the validation accuracy close to 0.88, or the 88%. Now we can train a new model with the whole training set for four epochs and test it with the test samples."
      ],
      "metadata": {
        "id": "Aw8UBgOImQPE"
      }
    },
    {
      "cell_type": "code",
      "source": [
        "# Retraining a model\n",
        "\n",
        "model = models.Sequential()\n",
        "model.add(layers.Dense(16, activation='relu', input_shape=(10000,)))\n",
        "model.add(layers.Dense(16, activation='relu'))\n",
        "model.add(layers.Dense(1, activation='sigmoid'))\n",
        "\n",
        "model.compile(optimizer='rmsprop',\n",
        "              loss='binary_crossentropy',\n",
        "              metrics=['accuracy']\n",
        "              )\n",
        "\n",
        "model.fit(x_train, y_train, epochs=4, batch_size=512)\n",
        "results = model.evaluate(x_test, y_test)"
      ],
      "metadata": {
        "colab": {
          "base_uri": "https://localhost:8080/"
        },
        "id": "fAJbfo5KqnTS",
        "outputId": "45ee3871-9ebe-423f-c300-668ea4ebee80"
      },
      "execution_count": null,
      "outputs": [
        {
          "output_type": "stream",
          "name": "stdout",
          "text": [
            "Epoch 1/4\n",
            "49/49 [==============================] - 2s 32ms/step - loss: 0.4694 - accuracy: 0.8112\n",
            "Epoch 2/4\n",
            "49/49 [==============================] - 1s 26ms/step - loss: 0.2797 - accuracy: 0.9025\n",
            "Epoch 3/4\n",
            "49/49 [==============================] - 1s 26ms/step - loss: 0.2209 - accuracy: 0.9210\n",
            "Epoch 4/4\n",
            "49/49 [==============================] - 1s 26ms/step - loss: 0.1880 - accuracy: 0.9331\n",
            "782/782 [==============================] - 2s 3ms/step - loss: 0.2817 - accuracy: 0.8868\n"
          ]
        }
      ]
    },
    {
      "cell_type": "code",
      "source": [
        "results"
      ],
      "metadata": {
        "colab": {
          "base_uri": "https://localhost:8080/"
        },
        "id": "iCd6ugU6sAp0",
        "outputId": "380f39a5-df1b-41e8-e031-db3cde20da5b"
      },
      "execution_count": null,
      "outputs": [
        {
          "output_type": "execute_result",
          "data": {
            "text/plain": [
              "[0.28165048360824585, 0.8867599964141846]"
            ]
          },
          "metadata": {},
          "execution_count": 10
        }
      ]
    },
    {
      "cell_type": "code",
      "source": [
        "model.predict(x_test)"
      ],
      "metadata": {
        "colab": {
          "base_uri": "https://localhost:8080/"
        },
        "id": "l6rKDbDnsCja",
        "outputId": "3ef659f7-4ab2-4a9a-98f4-ad19b61cb688"
      },
      "execution_count": null,
      "outputs": [
        {
          "output_type": "stream",
          "name": "stdout",
          "text": [
            "782/782 [==============================] - 2s 2ms/step\n"
          ]
        },
        {
          "output_type": "execute_result",
          "data": {
            "text/plain": [
              "array([[0.19282594],\n",
              "       [0.9996261 ],\n",
              "       [0.8717102 ],\n",
              "       ...,\n",
              "       [0.08282143],\n",
              "       [0.08208972],\n",
              "       [0.50112903]], dtype=float32)"
            ]
          },
          "metadata": {},
          "execution_count": 11
        }
      ]
    },
    {
      "cell_type": "markdown",
      "source": [
        "This new model has an accuracy of 88% and is a good aproach to solve the problem of classification of movie reviews, even though there are samples where the model doesn't have a good performance classifying the review and predicting a value close to 0.5. To try to improve the performance of the model we could use some techniques to prevent overfitting, like using dropout or l2 regularization, or use another approach changing the type of model to a Recurrent Neural Network or a Convolutional Network."
      ],
      "metadata": {
        "id": "S_XXfae9odhY"
      }
    }
  ]
}